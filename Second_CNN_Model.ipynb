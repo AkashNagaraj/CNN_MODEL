{
 "cells": [
  {
   "cell_type": "markdown",
   "metadata": {},
   "source": [
    "#    CNN model to predict dog or cat"
   ]
  },
  {
   "cell_type": "code",
   "execution_count": 2,
   "metadata": {},
   "outputs": [],
   "source": [
    "import keras\n",
    "from keras import models\n",
    "from keras import layers\n",
    "from keras.models import optimizers\n",
    "from keras.preprocessing.image import ImageDataGenerator"
   ]
  },
  {
   "cell_type": "raw",
   "metadata": {},
   "source": [
    "The CNN model is built to predict between two classes which is dog or cat. The default filters taken is of size 3*3 and we learn 32 filters in the beginning. We use Maxpooling of 2*2 to reduce the spatial dimensions and we learn twice the amount of previous filters at every step."
   ]
  },
  {
   "cell_type": "code",
   "execution_count": 7,
   "metadata": {},
   "outputs": [],
   "source": [
    "model=models.Sequential()\n",
    "model.add(layers.Conv2D(32,(3,3),activation='relu',input_shape=(150,150,3)))\n",
    "model.add(layers.MaxPooling2D((2,2)))\n",
    "model.add(layers.Conv2D(64,(3,3),activation='relu'))\n",
    "model.add(layers.MaxPooling2D((2,2)))\n",
    "model.add(layers.Conv2D(128,(3,3),activation='relu'))\n",
    "model.add(layers.MaxPooling2D((2,2)))\n",
    "model.add(layers.Conv2D(128,(3,3),activation='relu'))\n",
    "model.add(layers.MaxPooling2D((2,2)))"
   ]
  },
  {
   "cell_type": "raw",
   "metadata": {},
   "source": [
    "This is the fully connected layer where we also include Dropout.Dropout is used when large neural networks have little data because it can overfit the model during validation. Dropout removes random layers(input and output connections) making it look normal and not over conneccted.It prevents layers to correct previous mistakes and thus become better every time. We start at 0.5 but it is better if we tune it down.Another way to prevent overfitting is to normalize the batches. Sigmoid function provides values between 0 to 1 allowing it to be a probalbilistic funciton thus the final layers has the sigmoid activation."
   ]
  },
  {
   "cell_type": "code",
   "execution_count": 8,
   "metadata": {},
   "outputs": [],
   "source": [
    "model.add(layers.Flatten())\n",
    "model.add(layers.Dropout(0.5))\n",
    "model.add(layers.Dense(512,activation='relu'))\n",
    "model.add(layers.Dense(1,activation='sigmoid'))\n",
    "model.compile(loss='binary_crossentropy',optimizer=optimizers.RMSprop(lr=1e-4),metrics=['acc'])#binary_crossentropy"
   ]
  },
  {
   "cell_type": "raw",
   "metadata": {},
   "source": [
    "Data Augmentation is performed in thebelow step which increases the training data by transforming images with rotation and zooming allowing the model to learn from a larger dataset."
   ]
  },
  {
   "cell_type": "code",
   "execution_count": 9,
   "metadata": {},
   "outputs": [],
   "source": [
    "train_datagen=ImageDataGenerator(rescale=1./255,rotation_range=40,width_shift_range=0.2,\n",
    "                                 height_shift_range=0.2,shear_range=0.2,zoom_range=0.2,horizontal_flip=True)\n",
    "test_datagen=ImageDataGenerator(rescale=1./255)"
   ]
  },
  {
   "cell_type": "raw",
   "metadata": {},
   "source": [
    "Here we read the data and pass them as batches into the model. THe model has a 71% accuracy that can be improved by increasing the steps per epoch and the number of epochs."
   ]
  },
  {
   "cell_type": "code",
   "execution_count": 10,
   "metadata": {},
   "outputs": [],
   "source": [
    "train_dir='/home/linuxbox/Desktop/DEEP-LEARNING/Datasets/cats_and_dogs_small/train'\n",
    "test_dir='/home/linuxbox/Desktop/DEEP-LEARNING/Datasets/cats_and_dogs_small/test'\n",
    "validation_dir='/home/linuxbox/Desktop/DEEP-LEARNING/Datasets/cats_and_dogs_small/validation'"
   ]
  },
  {
   "cell_type": "code",
   "execution_count": 11,
   "metadata": {},
   "outputs": [
    {
     "name": "stdout",
     "output_type": "stream",
     "text": [
      "Found 2000 images belonging to 2 classes.\n",
      "Found 1000 images belonging to 2 classes.\n"
     ]
    }
   ],
   "source": [
    "train_generator=train_datagen.flow_from_directory(train_dir,target_size=(150,150),\n",
    "                                                  batch_size=40,class_mode='binary')\n",
    "validation_generator=test_datagen.flow_from_directory(validation_dir,target_size=(150,150),\n",
    "                                                      batch_size=40,class_mode='binary')"
   ]
  },
  {
   "cell_type": "code",
   "execution_count": 13,
   "metadata": {},
   "outputs": [
    {
     "name": "stdout",
     "output_type": "stream",
     "text": [
      "Epoch 1/30\n",
      "35/35 [==============================] - 169s 5s/step - loss: 0.6957 - acc: 0.4950 - val_loss: 0.6864 - val_acc: 0.5930\n",
      "Epoch 2/30\n",
      "35/35 [==============================] - 165s 5s/step - loss: 0.6859 - acc: 0.5371 - val_loss: 0.6832 - val_acc: 0.5100\n",
      "Epoch 3/30\n",
      "35/35 [==============================] - 165s 5s/step - loss: 0.6824 - acc: 0.5607 - val_loss: 0.6683 - val_acc: 0.5720\n",
      "Epoch 4/30\n",
      "35/35 [==============================] - 165s 5s/step - loss: 0.6819 - acc: 0.5521 - val_loss: 0.6685 - val_acc: 0.5830\n",
      "Epoch 5/30\n",
      "35/35 [==============================] - 166s 5s/step - loss: 0.6787 - acc: 0.5693 - val_loss: 0.6640 - val_acc: 0.5950\n",
      "Epoch 6/30\n",
      "35/35 [==============================] - 165s 5s/step - loss: 0.6589 - acc: 0.6086 - val_loss: 0.6558 - val_acc: 0.5890\n",
      "Epoch 7/30\n",
      "35/35 [==============================] - 167s 5s/step - loss: 0.6674 - acc: 0.5921 - val_loss: 0.6475 - val_acc: 0.6080\n",
      "Epoch 8/30\n",
      "35/35 [==============================] - 170s 5s/step - loss: 0.6552 - acc: 0.6236 - val_loss: 0.6689 - val_acc: 0.5760\n",
      "Epoch 9/30\n",
      "35/35 [==============================] - 166s 5s/step - loss: 0.6462 - acc: 0.6164 - val_loss: 0.6283 - val_acc: 0.6360\n",
      "Epoch 10/30\n",
      "35/35 [==============================] - 229s 7s/step - loss: 0.6494 - acc: 0.6086 - val_loss: 0.6475 - val_acc: 0.5950\n",
      "Epoch 11/30\n",
      "35/35 [==============================] - 171s 5s/step - loss: 0.6388 - acc: 0.6414 - val_loss: 0.6149 - val_acc: 0.6570\n",
      "Epoch 12/30\n",
      "35/35 [==============================] - 197s 6s/step - loss: 0.6186 - acc: 0.6650 - val_loss: 0.6140 - val_acc: 0.6540\n",
      "Epoch 13/30\n",
      "35/35 [==============================] - 202s 6s/step - loss: 0.6223 - acc: 0.6400 - val_loss: 0.6162 - val_acc: 0.6470\n",
      "Epoch 14/30\n",
      "35/35 [==============================] - 206s 6s/step - loss: 0.6158 - acc: 0.6664 - val_loss: 0.6115 - val_acc: 0.6560\n",
      "Epoch 15/30\n",
      "35/35 [==============================] - 193s 6s/step - loss: 0.6219 - acc: 0.6486 - val_loss: 0.5857 - val_acc: 0.6860\n",
      "Epoch 16/30\n",
      "35/35 [==============================] - 220s 6s/step - loss: 0.5953 - acc: 0.6886 - val_loss: 0.6890 - val_acc: 0.6040\n",
      "Epoch 17/30\n",
      "35/35 [==============================] - 221s 6s/step - loss: 0.5970 - acc: 0.6793 - val_loss: 0.5956 - val_acc: 0.6720\n",
      "Epoch 18/30\n",
      "35/35 [==============================] - 224s 6s/step - loss: 0.6033 - acc: 0.6757 - val_loss: 0.5784 - val_acc: 0.6870\n",
      "Epoch 19/30\n",
      "35/35 [==============================] - 256s 7s/step - loss: 0.6072 - acc: 0.6793 - val_loss: 0.5807 - val_acc: 0.6910\n",
      "Epoch 20/30\n",
      "35/35 [==============================] - 269s 8s/step - loss: 0.5815 - acc: 0.6871 - val_loss: 0.6032 - val_acc: 0.6540\n",
      "Epoch 21/30\n",
      "35/35 [==============================] - 239s 7s/step - loss: 0.5975 - acc: 0.6829 - val_loss: 0.6856 - val_acc: 0.5890\n",
      "Epoch 22/30\n",
      "35/35 [==============================] - 254s 7s/step - loss: 0.6094 - acc: 0.6679 - val_loss: 0.5646 - val_acc: 0.6940\n",
      "Epoch 23/30\n",
      "35/35 [==============================] - 261s 7s/step - loss: 0.5838 - acc: 0.7014 - val_loss: 0.5484 - val_acc: 0.7060\n",
      "Epoch 24/30\n",
      "35/35 [==============================] - 183s 5s/step - loss: 0.5897 - acc: 0.6850 - val_loss: 0.5480 - val_acc: 0.7140\n",
      "Epoch 25/30\n",
      "35/35 [==============================] - 164s 5s/step - loss: 0.5949 - acc: 0.6850 - val_loss: 0.5514 - val_acc: 0.7140\n",
      "Epoch 26/30\n",
      "35/35 [==============================] - 164s 5s/step - loss: 0.5722 - acc: 0.6993 - val_loss: 0.5562 - val_acc: 0.7100\n",
      "Epoch 27/30\n",
      "35/35 [==============================] - 164s 5s/step - loss: 0.5802 - acc: 0.6843 - val_loss: 0.5887 - val_acc: 0.6650\n",
      "Epoch 28/30\n",
      "35/35 [==============================] - 165s 5s/step - loss: 0.5752 - acc: 0.6971 - val_loss: 0.5424 - val_acc: 0.7100\n",
      "Epoch 29/30\n",
      "35/35 [==============================] - 164s 5s/step - loss: 0.5774 - acc: 0.7029 - val_loss: 0.5319 - val_acc: 0.7180\n",
      "Epoch 30/30\n",
      "35/35 [==============================] - 164s 5s/step - loss: 0.5724 - acc: 0.7000 - val_loss: 0.5383 - val_acc: 0.7140\n"
     ]
    }
   ],
   "source": [
    "history=model.fit_generator(train_generator,steps_per_epoch=35,epochs=30,validation_data=validation_generator,validation_steps=100)"
   ]
  },
  {
   "cell_type": "code",
   "execution_count": 14,
   "metadata": {},
   "outputs": [],
   "source": [
    "model.save(\"classification.h5\")"
   ]
  },
  {
   "cell_type": "code",
   "execution_count": 15,
   "metadata": {},
   "outputs": [],
   "source": [
    "from keras.models import load_model\n",
    "model = load_model('classification.h5')"
   ]
  },
  {
   "cell_type": "raw",
   "metadata": {},
   "source": [
    "From the below graph we can say that the model fits thedata almost perfectly except at the iteration at 16 and 21, where it has underfit. "
   ]
  },
  {
   "cell_type": "code",
   "execution_count": 17,
   "metadata": {},
   "outputs": [
    {
     "data": {
      "image/png": "[encoded data removed]",
      "text/plain": [
       "<matplotlib.figure.Figure at 0x7f3394098438>"
      ]
     },
     "metadata": {
      "needs_background": "light"
     },
     "output_type": "display_data"
    },
    {
     "data": {
      "image/png": "[encoded data removed]",
      "text/plain": [
       "<matplotlib.figure.Figure at 0x7f3394102080>"
      ]
     },
     "metadata": {
      "needs_background": "light"
     },
     "output_type": "display_data"
    }
   ],
   "source": [
    "import matplotlib.pyplot as plt\n",
    "acc = history.history['acc']\n",
    "val_acc = history.history['val_acc']\n",
    "loss = history.history['loss']\n",
    "val_loss = history.history['val_loss']\n",
    "epochs = range(1, len(acc) + 1)\n",
    "plt.plot(epochs, acc, 'bo', label='Training acc')\n",
    "plt.plot(epochs, val_acc, 'b', label='Validation acc')\n",
    "plt.title('Training and validation accuracy')\n",
    "plt.legend()\n",
    "plt.figure()\n",
    "plt.plot(epochs, loss, 'bo', label='Training loss')\n",
    "plt.plot(epochs, val_loss, 'b', label='Validation loss')\n",
    "plt.title('Training and validation loss')\n",
    "plt.legend()\n",
    "plt.show()"
   ]
  }
 ],
 "metadata": {
  "kernelspec": {
   "display_name": "Python 3",
   "language": "python",
   "name": "python3"
  },
  "language_info": {
   "codemirror_mode": {
    "name": "ipython",
    "version": 3
   },
   "file_extension": ".py",
   "mimetype": "text/x-python",
   "name": "python",
   "nbconvert_exporter": "python",
   "pygments_lexer": "ipython3",
   "version": "3.6.5"
  }
 },
 "nbformat": 4,
 "nbformat_minor": 2
}
